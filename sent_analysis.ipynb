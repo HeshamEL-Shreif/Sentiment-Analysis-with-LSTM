{
  "cells": [
    {
      "cell_type": "markdown",
      "metadata": {
        "id": "view-in-github",
        "colab_type": "text"
      },
      "source": [
        "<a href=\"https://colab.research.google.com/github/HeshamEL-Shreif/Sentiment-Analysis-with-LSTM/blob/main/sent_analysis.ipynb\" target=\"_parent\"><img src=\"https://colab.research.google.com/assets/colab-badge.svg\" alt=\"Open In Colab\"/></a>"
      ]
    },
    {
      "cell_type": "code",
      "execution_count": null,
      "id": "2a35ef69",
      "metadata": {
        "id": "2a35ef69"
      },
      "outputs": [],
      "source": [
        "! pip install datasets"
      ]
    },
    {
      "cell_type": "markdown",
      "source": [
        "# Imports"
      ],
      "metadata": {
        "id": "DvIphkHQEnYV"
      },
      "id": "DvIphkHQEnYV"
    },
    {
      "cell_type": "code",
      "execution_count": 4,
      "metadata": {
        "id": "1iIviAfeXdwF"
      },
      "outputs": [],
      "source": [
        "import torch\n",
        "import torch.nn as nn\n",
        "from torch.nn.utils.rnn import pad_sequence, pack_padded_sequence, pad_packed_sequence\n",
        "import torch.optim as optim\n",
        "from datasets import load_dataset\n",
        "import tqdm\n",
        "import nltk\n",
        "from nltk.tokenize import word_tokenize\n",
        "from nltk.corpus import stopwords\n",
        "import matplotlib.pyplot as plt\n",
        "from huggingface_hub import notebook_login\n",
        "from collections import Counter\n",
        "import re"
      ],
      "id": "1iIviAfeXdwF"
    },
    {
      "cell_type": "code",
      "source": [
        "nltk.download('punkt')\n",
        "nltk.download('stopwords')\n",
        "nltk.download('punkt_tab')"
      ],
      "metadata": {
        "id": "BX9LT6xDREHV",
        "outputId": "85d39715-3d7e-42e2-f0ec-0ef8339a3d27",
        "colab": {
          "base_uri": "https://localhost:8080/"
        }
      },
      "execution_count": 5,
      "outputs": [
        {
          "output_type": "stream",
          "name": "stderr",
          "text": [
            "[nltk_data] Downloading package punkt to /root/nltk_data...\n",
            "[nltk_data]   Unzipping tokenizers/punkt.zip.\n",
            "[nltk_data] Downloading package stopwords to /root/nltk_data...\n",
            "[nltk_data]   Unzipping corpora/stopwords.zip.\n",
            "[nltk_data] Downloading package punkt_tab to /root/nltk_data...\n",
            "[nltk_data]   Unzipping tokenizers/punkt_tab.zip.\n"
          ]
        },
        {
          "output_type": "execute_result",
          "data": {
            "text/plain": [
              "True"
            ]
          },
          "metadata": {},
          "execution_count": 5
        }
      ],
      "id": "BX9LT6xDREHV"
    },
    {
      "cell_type": "code",
      "source": [
        "notebook_login()"
      ],
      "metadata": {
        "id": "o7pcnLhqFPPm"
      },
      "execution_count": null,
      "outputs": [],
      "id": "o7pcnLhqFPPm"
    },
    {
      "cell_type": "markdown",
      "source": [
        "# Dataset"
      ],
      "metadata": {
        "id": "73JsjjBIEpVD"
      },
      "id": "73JsjjBIEpVD"
    },
    {
      "cell_type": "markdown",
      "source": [
        "## Download dataset"
      ],
      "metadata": {
        "id": "7I5ZrpQZE0UJ"
      },
      "id": "7I5ZrpQZE0UJ"
    },
    {
      "cell_type": "code",
      "execution_count": null,
      "metadata": {
        "id": "-5Uho4kvXiXE"
      },
      "outputs": [],
      "source": [
        "dataset = load_dataset(\"imdb\")"
      ],
      "id": "-5Uho4kvXiXE"
    },
    {
      "cell_type": "markdown",
      "source": [
        "## show dataset"
      ],
      "metadata": {
        "id": "x-_kQ2Y7Xy3m"
      },
      "id": "x-_kQ2Y7Xy3m"
    },
    {
      "cell_type": "code",
      "source": [
        "print(dataset)"
      ],
      "metadata": {
        "id": "Bft267UxFD2C"
      },
      "execution_count": null,
      "outputs": [],
      "id": "Bft267UxFD2C"
    },
    {
      "cell_type": "code",
      "source": [
        "print(dataset[\"train\"][0]['text'])\n",
        "print(dataset[\"train\"][0]['label'])"
      ],
      "metadata": {
        "id": "9D-0MpjTFjrH",
        "outputId": "28fa8625-a8d1-4743-fbc6-e4be287dd59c",
        "colab": {
          "base_uri": "https://localhost:8080/"
        }
      },
      "execution_count": 9,
      "outputs": [
        {
          "output_type": "stream",
          "name": "stdout",
          "text": [
            "I rented I AM CURIOUS-YELLOW from my video store because of all the controversy that surrounded it when it was first released in 1967. I also heard that at first it was seized by U.S. customs if it ever tried to enter this country, therefore being a fan of films considered \"controversial\" I really had to see this for myself.<br /><br />The plot is centered around a young Swedish drama student named Lena who wants to learn everything she can about life. In particular she wants to focus her attentions to making some sort of documentary on what the average Swede thought about certain political issues such as the Vietnam War and race issues in the United States. In between asking politicians and ordinary denizens of Stockholm about their opinions on politics, she has sex with her drama teacher, classmates, and married men.<br /><br />What kills me about I AM CURIOUS-YELLOW is that 40 years ago, this was considered pornographic. Really, the sex and nudity scenes are few and far between, even then it's not shot like some cheaply made porno. While my countrymen mind find it shocking, in reality sex and nudity are a major staple in Swedish cinema. Even Ingmar Bergman, arguably their answer to good old boy John Ford, had sex scenes in his films.<br /><br />I do commend the filmmakers for the fact that any sex shown in the film is shown for artistic purposes rather than just to shock people and make money to be shown in pornographic theaters in America. I AM CURIOUS-YELLOW is a good film for anyone wanting to study the meat and potatoes (no pun intended) of Swedish cinema. But really, this film doesn't have much of a plot.\n",
            "0\n"
          ]
        }
      ],
      "id": "9D-0MpjTFjrH"
    },
    {
      "cell_type": "markdown",
      "source": [
        "## Index to label"
      ],
      "metadata": {
        "id": "JKx3HuO2X4kQ"
      },
      "id": "JKx3HuO2X4kQ"
    },
    {
      "cell_type": "code",
      "source": [
        "idx2label = {0: \"Negative\", 1: \"Positive\"}"
      ],
      "metadata": {
        "id": "VXBkCK4aFm_i"
      },
      "execution_count": 10,
      "outputs": [],
      "id": "VXBkCK4aFm_i"
    },
    {
      "cell_type": "code",
      "source": [
        "dataset[\"train\"] = dataset[\"train\"].map(lambda x: {\"label_name\": idx2label[x[\"label\"]]})\n",
        "dataset[\"test\"] = dataset[\"test\"].map(lambda x: {\"label_name\": idx2label[x[\"label\"]]})"
      ],
      "metadata": {
        "id": "VnGAHCiQHHTq"
      },
      "execution_count": null,
      "outputs": [],
      "id": "VnGAHCiQHHTq"
    },
    {
      "cell_type": "markdown",
      "source": [
        "## Show class distribution"
      ],
      "metadata": {
        "id": "Aex77iQDYDpp"
      },
      "id": "Aex77iQDYDpp"
    },
    {
      "cell_type": "code",
      "source": [
        "label_counts = Counter(dataset['train']['label_name'])\n",
        "labels = list(label_counts.keys())\n",
        "counts = list(label_counts.values())\n",
        "\n",
        "\n",
        "plt.bar(labels, counts)\n",
        "plt.title('Distribution of Labels')\n",
        "plt.xlabel('Label')\n",
        "plt.ylabel('Count')\n",
        "plt.tight_layout()\n",
        "plt.show()"
      ],
      "metadata": {
        "id": "A2_0vBztHXdp",
        "outputId": "6984d121-bfbf-4ac0-fdb0-ec85cca6effe",
        "colab": {
          "base_uri": "https://localhost:8080/",
          "height": 487
        }
      },
      "execution_count": 12,
      "outputs": [
        {
          "output_type": "display_data",
          "data": {
            "text/plain": [
              "<Figure size 640x480 with 1 Axes>"
            ],
            "image/png": "[encoded data removed]"
          },
          "metadata": {}
        }
      ],
      "id": "A2_0vBztHXdp"
    },
    {
      "cell_type": "markdown",
      "source": [
        "## Preprocessing"
      ],
      "metadata": {
        "id": "e69MhBsIYIye"
      },
      "id": "e69MhBsIYIye"
    },
    {
      "cell_type": "markdown",
      "source": [
        "### Remove HTML tags"
      ],
      "metadata": {
        "id": "sxnU09BqYLwU"
      },
      "id": "sxnU09BqYLwU"
    },
    {
      "cell_type": "code",
      "source": [
        "def remove_html(text):\n",
        "    clean = re.compile('<.*?>')\n",
        "    return re.sub(clean, '', text)"
      ],
      "metadata": {
        "id": "SRZ-MfqJHD03"
      },
      "execution_count": 13,
      "outputs": [],
      "id": "SRZ-MfqJHD03"
    },
    {
      "cell_type": "code",
      "source": [],
      "metadata": {
        "id": "6pfEfaNOZ-k5"
      },
      "id": "6pfEfaNOZ-k5",
      "execution_count": 13,
      "outputs": []
    },
    {
      "cell_type": "markdown",
      "source": [
        "### Tokenize and remove stop words"
      ],
      "metadata": {
        "id": "fnd97tNwZBgQ"
      },
      "id": "fnd97tNwZBgQ"
    },
    {
      "cell_type": "code",
      "source": [
        "stop_words = set(stopwords.words('english'))"
      ],
      "metadata": {
        "id": "nGKTpUylY2Zh"
      },
      "id": "nGKTpUylY2Zh",
      "execution_count": 14,
      "outputs": []
    },
    {
      "cell_type": "code",
      "source": [
        "def tokenize_and_remove_stopwords(example):\n",
        "    tokens = word_tokenize(example['text'])\n",
        "    filtered_tokens = [word for word in tokens if word.lower() not in stop_words]\n",
        "    example['tokens'] = filtered_tokens[:200]\n",
        "    return example"
      ],
      "metadata": {
        "id": "6GOzhPLhKIUS"
      },
      "execution_count": 15,
      "outputs": [],
      "id": "6GOzhPLhKIUS"
    },
    {
      "cell_type": "markdown",
      "source": [
        "### Preprocessing function"
      ],
      "metadata": {
        "id": "Bd82H3pAZf87"
      },
      "id": "Bd82H3pAZf87"
    },
    {
      "cell_type": "code",
      "source": [
        "def preprocess(example):\n",
        "    example['text'] = remove_html(example['text'])\n",
        "    example = tokenize_and_remove_stopwords(example)\n",
        "    return example"
      ],
      "metadata": {
        "id": "6i6baIuhZlE2"
      },
      "id": "6i6baIuhZlE2",
      "execution_count": 16,
      "outputs": []
    },
    {
      "cell_type": "markdown",
      "source": [
        "### Apply preprocesing"
      ],
      "metadata": {
        "id": "TRXvZ0tjZawq"
      },
      "id": "TRXvZ0tjZawq"
    },
    {
      "cell_type": "code",
      "source": [
        "dataset = dataset.map(preprocess)"
      ],
      "metadata": {
        "id": "p8VVCJe_KLm3"
      },
      "execution_count": null,
      "outputs": [],
      "id": "p8VVCJe_KLm3"
    },
    {
      "cell_type": "code",
      "source": [
        "dataset"
      ],
      "metadata": {
        "colab": {
          "base_uri": "https://localhost:8080/"
        },
        "id": "S5sUmDqMZ8Iw",
        "outputId": "9fa0e621-b7da-450a-c2c7-c0df8de51721"
      },
      "id": "S5sUmDqMZ8Iw",
      "execution_count": 18,
      "outputs": [
        {
          "output_type": "execute_result",
          "data": {
            "text/plain": [
              "DatasetDict({\n",
              "    train: Dataset({\n",
              "        features: ['text', 'label', 'label_name', 'tokens'],\n",
              "        num_rows: 25000\n",
              "    })\n",
              "    test: Dataset({\n",
              "        features: ['text', 'label', 'label_name', 'tokens'],\n",
              "        num_rows: 25000\n",
              "    })\n",
              "    unsupervised: Dataset({\n",
              "        features: ['text', 'label', 'tokens'],\n",
              "        num_rows: 50000\n",
              "    })\n",
              "})"
            ]
          },
          "metadata": {},
          "execution_count": 18
        }
      ]
    },
    {
      "cell_type": "markdown",
      "source": [
        "### Get Sequence lengths"
      ],
      "metadata": {
        "id": "cZA2UNnKZwwK"
      },
      "id": "cZA2UNnKZwwK"
    },
    {
      "cell_type": "code",
      "source": [
        "dataset[\"train\"] = dataset[\"train\"].map(lambda x: {\"len\": len(x['tokens'])})"
      ],
      "metadata": {
        "id": "Moc5WaNiKq-B"
      },
      "execution_count": null,
      "outputs": [],
      "id": "Moc5WaNiKq-B"
    },
    {
      "cell_type": "code",
      "source": [
        "print(dataset)"
      ],
      "metadata": {
        "id": "89gkZ48zK41A",
        "outputId": "8ebee712-f9da-46bd-f399-9765f4b5d1bf",
        "colab": {
          "base_uri": "https://localhost:8080/"
        }
      },
      "execution_count": 20,
      "outputs": [
        {
          "output_type": "stream",
          "name": "stdout",
          "text": [
            "DatasetDict({\n",
            "    train: Dataset({\n",
            "        features: ['text', 'label', 'label_name', 'tokens', 'len'],\n",
            "        num_rows: 25000\n",
            "    })\n",
            "    test: Dataset({\n",
            "        features: ['text', 'label', 'label_name', 'tokens'],\n",
            "        num_rows: 25000\n",
            "    })\n",
            "    unsupervised: Dataset({\n",
            "        features: ['text', 'label', 'tokens'],\n",
            "        num_rows: 50000\n",
            "    })\n",
            "})\n"
          ]
        }
      ],
      "id": "89gkZ48zK41A"
    },
    {
      "cell_type": "markdown",
      "source": [
        "## build vocab"
      ],
      "metadata": {
        "id": "H4siq4Msba4n"
      },
      "id": "H4siq4Msba4n"
    },
    {
      "cell_type": "code",
      "source": [
        "all_tokens = [token for example in dataset['train'] for token in example['tokens']]\n",
        "vocab_counter = Counter(all_tokens)\n",
        "vocab = {'<PAD>': 0, '<UNK>': 1}\n",
        "vocab.update({token: idx + 2 for idx, (token, _) in enumerate(vocab_counter.most_common(20000))})"
      ],
      "metadata": {
        "id": "C9jKdvsyLQGr"
      },
      "execution_count": 21,
      "outputs": [],
      "id": "C9jKdvsyLQGr"
    },
    {
      "cell_type": "code",
      "source": [
        "vocab_size = len(vocab)\n",
        "print(f\"Vocabulary size: {vocab_size}\")"
      ],
      "metadata": {
        "id": "dvkXfQdvNpTX",
        "outputId": "1d09abf8-17ec-47e1-aca0-2e4613692726",
        "colab": {
          "base_uri": "https://localhost:8080/"
        }
      },
      "execution_count": 22,
      "outputs": [
        {
          "output_type": "stream",
          "name": "stdout",
          "text": [
            "Vocabulary size: 20002\n"
          ]
        }
      ],
      "id": "dvkXfQdvNpTX"
    },
    {
      "cell_type": "markdown",
      "source": [
        "## tokens to ids"
      ],
      "metadata": {
        "id": "YYiLh1S3bxG7"
      },
      "id": "YYiLh1S3bxG7"
    },
    {
      "cell_type": "code",
      "source": [
        "def tokens_to_ids(example):\n",
        "    example['input_ids'] = [vocab.get(token, vocab['<UNK>']) for token in example['tokens']]\n",
        "    return example\n",
        "\n",
        "dataset = dataset.map(tokens_to_ids)\n"
      ],
      "metadata": {
        "id": "TNZGQzBXNvOu"
      },
      "execution_count": null,
      "outputs": [],
      "id": "TNZGQzBXNvOu"
    },
    {
      "cell_type": "markdown",
      "source": [
        "## Show sequence length distribution"
      ],
      "metadata": {
        "id": "kRS6AGF2b5BI"
      },
      "id": "kRS6AGF2b5BI"
    },
    {
      "cell_type": "code",
      "source": [
        "plt.hist(dataset['train']['len'])\n",
        "plt.title('Distribution of sequence length')\n",
        "plt.xlabel('sequence length')\n",
        "plt.ylabel('Count')\n",
        "plt.tight_layout()\n",
        "plt.show()"
      ],
      "metadata": {
        "id": "DBy2Hs4hOL12",
        "outputId": "432e742b-5fbd-472c-9628-2d03b8db5eaa",
        "colab": {
          "base_uri": "https://localhost:8080/",
          "height": 487
        }
      },
      "execution_count": 24,
      "outputs": [
        {
          "output_type": "display_data",
          "data": {
            "text/plain": [
              "<Figure size 640x480 with 1 Axes>"
            ],
            "image/png": "[encoded data removed]"
          },
          "metadata": {}
        }
      ],
      "id": "DBy2Hs4hOL12"
    },
    {
      "cell_type": "markdown",
      "source": [
        "## Dataset class"
      ],
      "metadata": {
        "id": "fzN_3jMzcJRj"
      },
      "id": "fzN_3jMzcJRj"
    },
    {
      "cell_type": "code",
      "source": [
        "class SentimentDataset(torch.utils.data.Dataset):\n",
        "    def __init__(self, dataset):\n",
        "        self.dataset = dataset\n",
        "    def __len__(self):\n",
        "        return len(self.dataset)\n",
        "    def __getitem__(self, idx):\n",
        "        item = self.dataset[idx]\n",
        "        return torch.tensor(item['input_ids']), item['label'], item['len']"
      ],
      "metadata": {
        "id": "W048Cb31PKRT"
      },
      "execution_count": 132,
      "outputs": [],
      "id": "W048Cb31PKRT"
    },
    {
      "cell_type": "code",
      "source": [
        "def collate_fn(batch):\n",
        "    input_ids, labels, lengths_list = zip(*batch)\n",
        "\n",
        "    lengths = torch.tensor(lengths_list)\n",
        "    labels = torch.tensor(labels)\n",
        "\n",
        "\n",
        "    lengths, idx = lengths.sort(descending=True)\n",
        "    input_ids = [input_ids[i] for i in idx]\n",
        "    labels = labels[idx]\n",
        "\n",
        "    padded_inputs = pad_sequence(input_ids, batch_first=True, padding_value=vocab['<PAD>'])\n",
        "\n",
        "    return padded_inputs, labels, lengths"
      ],
      "metadata": {
        "id": "pvLmntaZOd16"
      },
      "execution_count": 134,
      "outputs": [],
      "id": "pvLmntaZOd16"
    },
    {
      "cell_type": "code",
      "source": [
        "train_dataset = SentimentDataset(dataset['train'])\n",
        "test_dataset = SentimentDataset(dataset['test'].select(range(1000)))"
      ],
      "metadata": {
        "id": "6evVbQjzPYD2"
      },
      "execution_count": 195,
      "outputs": [],
      "id": "6evVbQjzPYD2"
    },
    {
      "cell_type": "markdown",
      "source": [
        "## Dataloaders"
      ],
      "metadata": {
        "id": "18Sfh8U8cPcI"
      },
      "id": "18Sfh8U8cPcI"
    },
    {
      "cell_type": "code",
      "source": [
        "train_loader = torch.utils.data.DataLoader(train_dataset, batch_size=16, num_workers=2, shuffle=True, collate_fn=collate_fn)\n",
        "test_loader = torch.utils.data.DataLoader(test_dataset, batch_size=16, shuffle=False, collate_fn=collate_fn)"
      ],
      "metadata": {
        "id": "N9cN_X_7OtBX"
      },
      "execution_count": 188,
      "outputs": [],
      "id": "N9cN_X_7OtBX"
    },
    {
      "cell_type": "markdown",
      "source": [
        "# LSTM model class"
      ],
      "metadata": {
        "id": "BsIJAtiXceac"
      },
      "id": "BsIJAtiXceac"
    },
    {
      "cell_type": "code",
      "source": [
        "class SentimentClassifier(nn.Module):\n",
        "  def __init__(self, vocab_size, embedding_dim, hidden_dim, output_dim, n_layers, bidirectional, dropout, pad_idx):\n",
        "    super().__init__()\n",
        "    self.embed = nn.Embedding(vocab_size, embedding_dim, padding_idx=pad_idx)\n",
        "    self.lstm = nn.LSTM(embedding_dim, hidden_dim, num_layers=n_layers, bidirectional=bidirectional, dropout= dropout if bidirectional else 0, batch_first=True)\n",
        "    self.fc = nn.Linear(hidden_dim * 2 if bidirectional else hidden_dim, output_dim)\n",
        "    self.relu = nn.ReLU()\n",
        "    self.dropout = nn.Dropout(dropout)\n",
        "  def forward(self, text, lengths):\n",
        "      embedded = self.embed(text)\n",
        "      packed = pack_padded_sequence(embedded, lengths, batch_first=True)\n",
        "      packed_output, (hidden, cell) = self.lstm(packed)\n",
        "\n",
        "      if self.lstm.bidirectional:\n",
        "          hidden = torch.cat((hidden[-2], hidden[-1]), dim=1)\n",
        "      else:\n",
        "          hidden = hidden[-1]\n",
        "\n",
        "      hidden = self.dropout(hidden)\n",
        "      hidden = self.relu(hidden)\n",
        "      return self.fc(hidden)\n"
      ],
      "metadata": {
        "id": "CobYE3K6Prjm"
      },
      "execution_count": 190,
      "outputs": [],
      "id": "CobYE3K6Prjm"
    },
    {
      "cell_type": "markdown",
      "source": [
        "# Training loop"
      ],
      "metadata": {
        "id": "Nh8Tgm6ldXKP"
      },
      "id": "Nh8Tgm6ldXKP"
    },
    {
      "cell_type": "code",
      "source": [
        "def training_loop(model, train_loader, optimizer, criterion, epochs, device):\n",
        "    model.train()\n",
        "    losses = []\n",
        "    accuracies = []\n",
        "\n",
        "    for epoch in range(epochs):\n",
        "        running_loss = 0.0\n",
        "        progress_bar = tqdm.tqdm(train_loader, desc=f\"Epoch {epoch + 1} / {epochs} \")\n",
        "        for inputs, labels, lengths in progress_bar:\n",
        "            inputs = inputs.to(device)\n",
        "            labels = labels.to(device)\n",
        "            optimizer.zero_grad()\n",
        "            outputs = model(inputs, lengths)\n",
        "            loss = criterion(outputs, labels)\n",
        "            loss.backward()\n",
        "            optimizer.step()\n",
        "\n",
        "            running_loss += loss.item()\n",
        "            preds = torch.argmax(outputs, dim=1)\n",
        "            correct = (preds == labels).sum().item()\n",
        "            accuracy = correct / labels.size(0)\n",
        "            accuracies.append(accuracy)\n",
        "\n",
        "            avg_loss = running_loss / (progress_bar.n + 1)\n",
        "            losses.append(avg_loss)\n",
        "            progress_bar.set_postfix(loss=f\"{avg_loss:.4f}\", accuracy=f\"{accuracy:.4f}\")\n",
        "    return losses, accuracies"
      ],
      "metadata": {
        "id": "7iVGKfO6Qky_"
      },
      "execution_count": 191,
      "outputs": [],
      "id": "7iVGKfO6Qky_"
    },
    {
      "cell_type": "markdown",
      "source": [
        "# Model Training"
      ],
      "metadata": {
        "id": "wKrMc5pngVva"
      },
      "id": "wKrMc5pngVva"
    },
    {
      "cell_type": "markdown",
      "source": [
        "## Hyperparameters"
      ],
      "metadata": {
        "id": "Ex9URDqggaPq"
      },
      "id": "Ex9URDqggaPq"
    },
    {
      "cell_type": "code",
      "source": [
        "embedding_dim = 100\n",
        "hidden_dim = 256\n",
        "output_dim = 2\n",
        "n_layers = 1\n",
        "bidirectional = False\n",
        "dropout = 0.5\n",
        "pad_idx = vocab['<PAD>']"
      ],
      "metadata": {
        "id": "kxgK_XrRgmhq"
      },
      "id": "kxgK_XrRgmhq",
      "execution_count": 192,
      "outputs": []
    },
    {
      "cell_type": "code",
      "source": [
        "model = SentimentClassifier(vocab_size, embedding_dim, hidden_dim, output_dim, n_layers, bidirectional, dropout, pad_idx)\n",
        "device = torch.device('cuda' if torch.cuda.is_available() else 'cpu')\n",
        "model = model.to(device)\n",
        "optimizer = torch.optim.Adam(model.parameters(), lr=0.001)\n",
        "criterion = nn.CrossEntropyLoss()\n",
        "epochs = 10"
      ],
      "metadata": {
        "id": "ZZ80hRizgVBw"
      },
      "id": "ZZ80hRizgVBw",
      "execution_count": 193,
      "outputs": []
    },
    {
      "cell_type": "code",
      "source": [
        "losses, accuracies = training_loop(model,\n",
        "                                   train_loader,\n",
        "                                   optimizer,\n",
        "                                   criterion,\n",
        "                                   epochs,\n",
        "                                   device)"
      ],
      "metadata": {
        "colab": {
          "base_uri": "https://localhost:8080/"
        },
        "id": "Ozx2XVdOgtDA",
        "outputId": "bc4b2df5-9611-45be-80c3-44943c70c2c3"
      },
      "id": "Ozx2XVdOgtDA",
      "execution_count": 194,
      "outputs": [
        {
          "output_type": "stream",
          "name": "stderr",
          "text": [
            "Epoch 1 / 10 : 100%|██████████| 1563/1563 [00:27<00:00, 55.83it/s, accuracy=0.6250, loss=0.6474]\n",
            "Epoch 2 / 10 : 100%|██████████| 1563/1563 [00:27<00:00, 56.67it/s, accuracy=1.0000, loss=0.4688]\n",
            "Epoch 3 / 10 : 100%|██████████| 1563/1563 [00:28<00:00, 54.58it/s, accuracy=0.8750, loss=0.2803]\n",
            "Epoch 4 / 10 : 100%|██████████| 1563/1563 [00:28<00:00, 55.27it/s, accuracy=1.0000, loss=0.1944]\n",
            "Epoch 5 / 10 : 100%|██████████| 1563/1563 [00:27<00:00, 56.56it/s, accuracy=1.0000, loss=0.1279]\n",
            "Epoch 6 / 10 : 100%|██████████| 1563/1563 [00:27<00:00, 56.88it/s, accuracy=1.0000, loss=0.0781]\n",
            "Epoch 7 / 10 : 100%|██████████| 1563/1563 [00:27<00:00, 57.14it/s, accuracy=1.0000, loss=0.0485]\n",
            "Epoch 8 / 10 : 100%|██████████| 1563/1563 [00:27<00:00, 56.38it/s, accuracy=0.8750, loss=0.0326]\n",
            "Epoch 9 / 10 : 100%|██████████| 1563/1563 [00:28<00:00, 55.64it/s, accuracy=1.0000, loss=0.0243]\n",
            "Epoch 10 / 10 : 100%|██████████| 1563/1563 [00:27<00:00, 56.93it/s, accuracy=0.8750, loss=0.0197]\n"
          ]
        }
      ]
    },
    {
      "cell_type": "code",
      "source": [],
      "metadata": {
        "id": "QZdGidgeh5zv"
      },
      "id": "QZdGidgeh5zv",
      "execution_count": 102,
      "outputs": []
    }
  ],
  "metadata": {
    "kernelspec": {
      "display_name": "Python 3",
      "name": "python3"
    },
    "language_info": {
      "codemirror_mode": {
        "name": "ipython",
        "version": 3
      },
      "file_extension": ".py",
      "mimetype": "text/x-python",
      "name": "python",
      "nbconvert_exporter": "python",
      "pygments_lexer": "ipython3",
      "version": "3.10.16"
    },
    "colab": {
      "provenance": [],
      "gpuType": "T4",
      "include_colab_link": true
    },
    "accelerator": "GPU"
  },
  "nbformat": 4,
  "nbformat_minor": 5
}